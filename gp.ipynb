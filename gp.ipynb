{
 "cells": [
  {
   "cell_type": "code",
   "execution_count": 13,
   "metadata": {},
   "outputs": [],
   "source": [
    "import random\n",
    "from sklearn.ensemble import RandomForestClassifier\n",
    "from sklearn.model_selection import train_test_split\n",
    "from sklearn.metrics import balanced_accuracy_score\n",
    "from tqdm.auto import tqdm\n",
    "\n",
    "SEED = 42\n",
    "random.seed(SEED)"
   ]
  },
  {
   "cell_type": "code",
   "execution_count": 14,
   "metadata": {},
   "outputs": [],
   "source": [
    "chromosome_types = {\n",
    "    'n_estimators': int,        # Number of trees (5 to 200)\n",
    "    'max_depth': int,           # Max depth (10 to 100)\n",
    "    'min_samples_split': int,   # Minimum samples to split (2 to 10)\n",
    "    'min_samples_leaf': int,    # Minimum samples per leaf (1 to 10)\n",
    "    'criterion': bool           # Criterion: 0:'gini' or 1:'entropy'\n",
    "}"
   ]
  },
  {
   "cell_type": "markdown",
   "metadata": {},
   "source": [
    "### Fitness function"
   ]
  },
  {
   "cell_type": "code",
   "execution_count": 15,
   "metadata": {},
   "outputs": [],
   "source": [
    "def evaluate_fitness(chromosome, X_train, y_train, X_val, y_val):\n",
    "    # Create and train the model\n",
    "    model = RandomForestClassifier(**chromosome, random_state=SEED)\n",
    "    model.fit(X_train, y_train)\n",
    "    \n",
    "    # Evaluate the model on the validation set\n",
    "    predictions = model.predict(X_val)\n",
    "    \n",
    "    # Return the f1 score\n",
    "    return balanced_accuracy_score(y_val, predictions)"
   ]
  },
  {
   "cell_type": "markdown",
   "metadata": {},
   "source": [
    "We additionally define an \"interface\" for the evaluation of the fitness of each individual in the population. This function will be useful to parallelize the evaluation of the fitness of each individual in the population."
   ]
  },
  {
   "cell_type": "code",
   "execution_count": 16,
   "metadata": {},
   "outputs": [],
   "source": [
    "# Serial implementation\n",
    "def evalutate_multiple_fitness(chromosomes, X_train, y_train, X_val, y_val):\n",
    "    return [evaluate_fitness(chromosome, X_train, y_train, X_val, y_val) for chromosome in chromosomes]\n",
    "\n",
    "\n",
    "# Parallel implementation\n",
    "from joblib import Parallel, delayed\n",
    "\n",
    "def evalutate_multiple_fitness_parallel(chromosomes, X_train, y_train, X_val, y_val):\n",
    "    return Parallel(n_jobs=5)(delayed(evaluate_fitness)(chromosome, X_train, y_train, X_val, y_val) for chromosome in chromosomes)"
   ]
  },
  {
   "cell_type": "markdown",
   "metadata": {},
   "source": [
    "### Population initialization"
   ]
  },
  {
   "cell_type": "code",
   "execution_count": 17,
   "metadata": {},
   "outputs": [],
   "source": [
    "def initialize_population(pop_size):\n",
    "    population = []\n",
    "    for _ in range(pop_size):\n",
    "        chromosome = {\n",
    "            'n_estimators': random.randint(5, 200),\n",
    "            'max_depth': random.randint(10, 100),\n",
    "            'min_samples_split': random.randint(2, 10),\n",
    "            'min_samples_leaf': random.randint(1, 10),\n",
    "            'criterion': random.choice([\"gini\", \"entropy\"])\n",
    "        }\n",
    "        population.append(chromosome)\n",
    "    return population"
   ]
  },
  {
   "cell_type": "markdown",
   "metadata": {},
   "source": [
    "### Mutation operator\n",
    "\n",
    "- For binary variables we just flip the bit with a probability $\\tilde{p} = 1/n$ where $n$ is the size of the population.\n",
    "- For positive integer variables we add a random number between $-1$ and $1$ to the variable.\n",
    "- For real variables we add a random noise from a gaussian distribution with mean $0$ and standard deviation $0.1$."
   ]
  },
  {
   "cell_type": "code",
   "execution_count": 18,
   "metadata": {},
   "outputs": [],
   "source": [
    "def mutate(chromosome):\n",
    "    for gene in chromosome:\n",
    "        gene_type = chromosome_types.get(gene, None)\n",
    "        if gene_type == bool:\n",
    "            chromosome[gene] = \"gini\" if chromosome[gene] == \"entropy\" else \"entropy\"\n",
    "        elif gene_type == int:\n",
    "            noise = random.randint(-2, 2)\n",
    "            chromosome[gene] = max(1, min(chromosome[gene] + noise, 200)) # boundary conditions: \n",
    "        elif gene_type == float:\n",
    "            noise = random.normalvariate(0, 0.1)\n",
    "            chromosome[gene] += noise\n",
    "        else:\n",
    "            raise ValueError(f\"Unknown gene type\")"
   ]
  },
  {
   "cell_type": "markdown",
   "metadata": {},
   "source": [
    "### Crossover operator"
   ]
  },
  {
   "cell_type": "code",
   "execution_count": 19,
   "metadata": {},
   "outputs": [],
   "source": [
    "def crossover(chromosome1, chromosome2):\n",
    "    child = {}\n",
    "    for gene in chromosome1:\n",
    "        child[gene] = random.choice([chromosome1[gene], chromosome2[gene]])\n",
    "    return child"
   ]
  },
  {
   "cell_type": "markdown",
   "metadata": {},
   "source": [
    "### Selection operator"
   ]
  },
  {
   "cell_type": "code",
   "execution_count": 20,
   "metadata": {},
   "outputs": [],
   "source": [
    "def select(population, X_train, y_train, X_val, y_val, tournament_size):\n",
    "    # Tournament selection\n",
    "    selected = []\n",
    "    for _ in range(len(population)):\n",
    "        tournament = random.sample(population, tournament_size)\n",
    "        winner = max(tournament, key=lambda c: evaluate_fitness(c, X_train, y_train, X_val, y_val))\n",
    "        selected.append(winner)\n",
    "    return selected"
   ]
  },
  {
   "cell_type": "markdown",
   "metadata": {},
   "source": [
    "### Termination condition"
   ]
  },
  {
   "cell_type": "code",
   "execution_count": 21,
   "metadata": {},
   "outputs": [],
   "source": [
    "def termination_condition(best_fitness, max_generations):\n",
    "    return best_fitness == 1.0 or max_generations == 0"
   ]
  },
  {
   "cell_type": "markdown",
   "metadata": {},
   "source": [
    "### Genetic algorithm"
   ]
  },
  {
   "cell_type": "code",
   "execution_count": 22,
   "metadata": {},
   "outputs": [],
   "source": [
    "def genetic_algorithm(X_train, y_train, X_val, y_val, pop_size=100, max_generations=100, tournament_size=3, mutation_rate=0.1):\n",
    "    # Initialize the population\n",
    "    population = initialize_population(pop_size)\n",
    "    \n",
    "    # Create \"history\" lists to track the evolution of the best chromosome\n",
    "    population_history = [population]\n",
    "    fitness_history = []\n",
    "    \n",
    "    # Evolution loop\n",
    "    best_chromosome = None\n",
    "    best_fitness = 0\n",
    "    for generation in tqdm(range(max_generations)):\n",
    "        # Evaluate the population\n",
    "        fitness = evalutate_multiple_fitness_parallel(population, X_train, y_train, X_val, y_val)\n",
    "        fitness_history.append(fitness)\n",
    "        \n",
    "        # Select the best chromosome\n",
    "        best_idx = fitness.index(max(fitness))\n",
    "        if fitness[best_idx] > best_fitness:\n",
    "            best_fitness = fitness[best_idx]\n",
    "            best_chromosome = population[best_idx]\n",
    "        \n",
    "        # Termination condition\n",
    "        if termination_condition(best_fitness, max_generations - generation):\n",
    "            break\n",
    "        \n",
    "        # Select the next generation\n",
    "        selected = select(population, X_train, y_train, X_val, y_val, tournament_size)\n",
    "        \n",
    "        # Crossover\n",
    "        children = []\n",
    "        for _ in range(pop_size // 2):\n",
    "            parent1 = random.choice(selected)\n",
    "            parent2 = random.choice(selected)\n",
    "            child1 = crossover(parent1, parent2)\n",
    "            child2 = crossover(parent1, parent2)\n",
    "            children.extend([child1, child2])\n",
    "        \n",
    "        # Mutation\n",
    "        for child in children:\n",
    "            if random.random() < mutation_rate:\n",
    "                mutate(child, pop_size)\n",
    "        \n",
    "        # Store the current population and move to the next generation\n",
    "        population_history.append(population)\n",
    "        population = children\n",
    "    \n",
    "    return best_chromosome, best_fitness, {'population': population_history, 'fitness': fitness_history}"
   ]
  },
  {
   "cell_type": "markdown",
   "metadata": {},
   "source": [
    "## Experiment"
   ]
  },
  {
   "cell_type": "markdown",
   "metadata": {},
   "source": [
    "### Data loading"
   ]
  },
  {
   "cell_type": "code",
   "execution_count": 23,
   "metadata": {},
   "outputs": [],
   "source": [
    "import pandas as pd\n",
    "\n",
    "# Load the dataset\n",
    "df = pd.read_parquet('datasets/creditcard_downsampled.parquet')\n",
    "df_train, df_val = train_test_split(df, test_size=0.2, random_state=SEED)\n",
    "\n",
    "# Split the data into features and target\n",
    "X_train, y_train = df_train.drop(columns=['Class']), df_train['Class']\n",
    "X_val, y_val = df_val.drop(columns=['Class']), df_val['Class']\n",
    "\n",
    "# Standardize the data\n",
    "from sklearn.preprocessing import StandardScaler\n",
    "\n",
    "scaler = StandardScaler()\n",
    "\n",
    "X_train = scaler.fit_transform(X_train)\n",
    "X_val = scaler.transform(X_val)"
   ]
  },
  {
   "cell_type": "code",
   "execution_count": 24,
   "metadata": {},
   "outputs": [
    {
     "data": {
      "application/vnd.jupyter.widget-view+json": {
       "model_id": "8b21cf5b28c44981aa5d2de2e2eb0cc1",
       "version_major": 2,
       "version_minor": 0
      },
      "text/plain": [
       "  0%|          | 0/3 [00:00<?, ?it/s]"
      ]
     },
     "metadata": {},
     "output_type": "display_data"
    }
   ],
   "source": [
    "# Run the genetic algorithm\n",
    "best_chromosome, best_fitness, history = genetic_algorithm(\n",
    "    X_train,\n",
    "    y_train,\n",
    "    X_val,\n",
    "    y_val,\n",
    "    pop_size=5,\n",
    "    max_generations=10,\n",
    "    tournament_size=3,\n",
    "    mutation_rate=0.2\n",
    ")"
   ]
  },
  {
   "cell_type": "code",
   "execution_count": null,
   "metadata": {},
   "outputs": [],
   "source": [
    "best_fitness_history = [max(fitness) for fitness in history['fitness']]"
   ]
  },
  {
   "cell_type": "code",
   "execution_count": 30,
   "metadata": {},
   "outputs": [
    {
     "data": {
      "image/png": "[encoded data removed]",
      "text/plain": [
       "<Figure size 640x480 with 1 Axes>"
      ]
     },
     "metadata": {},
     "output_type": "display_data"
    }
   ],
   "source": [
    "import matplotlib.pyplot as plt\n",
    "\n",
    "y_max = max(best_fitness_history)\n",
    "x_max = best_fitness_history.index(y_max) + 1\n",
    "\n",
    "x_generations = list(range(1,1+len(best_fitness_history)))\n",
    "fig, ax = plt.subplots()\n",
    "# Plot fitness over generations\n",
    "ax.plot(x_generations, best_fitness_history, label='Best fitness')\n",
    "# Highlight the maximum fitness\n",
    "ax.plot(x_max, y_max, 'ro', label=f'Maximum fitness: {y_max:.2f}')\n",
    "ax.xaxis.set_major_locator(plt.MaxNLocator(integer=True))\n",
    "ax.set_xlabel('Generation')\n",
    "ax.set_ylabel('Fitness')\n",
    "ax.legend()\n",
    "ax.grid(True)\n",
    "ax.set_title('Fitness over generations')\n",
    "plt.show()"
   ]
  }
 ],
 "metadata": {
  "kernelspec": {
   "display_name": "usr",
   "language": "python",
   "name": "python3"
  },
  "language_info": {
   "codemirror_mode": {
    "name": "ipython",
    "version": 3
   },
   "file_extension": ".py",
   "mimetype": "text/x-python",
   "name": "python",
   "nbconvert_exporter": "python",
   "pygments_lexer": "ipython3",
   "version": "3.12.6"
  }
 },
 "nbformat": 4,
 "nbformat_minor": 2
}
