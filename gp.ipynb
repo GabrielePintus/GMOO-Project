{
 "cells": [
  {
   "cell_type": "code",
   "execution_count": 98,
   "metadata": {},
   "outputs": [],
   "source": [
    "import random\n",
    "from sklearn.ensemble import RandomForestClassifier\n",
    "from sklearn.model_selection import train_test_split\n",
    "from sklearn.metrics import balanced_accuracy_score\n",
    "from tqdm.auto import tqdm\n",
    "\n",
    "SEED = 42\n",
    "random.seed(SEED)"
   ]
  },
  {
   "cell_type": "code",
   "execution_count": 99,
   "metadata": {},
   "outputs": [],
   "source": [
    "chromosome_types = {\n",
    "    'n_estimators': int,        # Number of trees (5 to 200)\n",
    "    'max_depth': int,           # Max depth (10 to 100)\n",
    "    'min_samples_split': int,   # Minimum samples to split (2 to 10)\n",
    "    'min_samples_leaf': int,    # Minimum samples per leaf (1 to 10)\n",
    "    'criterion': bool           # Criterion: 0:'gini' or 1:'entropy'\n",
    "}"
   ]
  },
  {
   "cell_type": "markdown",
   "metadata": {},
   "source": [
    "### Fitness function"
   ]
  },
  {
   "cell_type": "code",
   "execution_count": 100,
   "metadata": {},
   "outputs": [],
   "source": [
    "def evaluate_fitness(chromosome, X_train, y_train, X_val, y_val):\n",
    "    # Create and train the model\n",
    "    model = RandomForestClassifier(**chromosome, random_state=SEED)\n",
    "    model.fit(X_train, y_train)\n",
    "    \n",
    "    # Evaluate the model on the validation set\n",
    "    predictions = model.predict(X_val)\n",
    "    \n",
    "    # Return the f1 score\n",
    "    return balanced_accuracy_score(y_val, predictions)"
   ]
  },
  {
   "cell_type": "markdown",
   "metadata": {},
   "source": [
    "### Population initialization"
   ]
  },
  {
   "cell_type": "code",
   "execution_count": 101,
   "metadata": {},
   "outputs": [],
   "source": [
    "def initialize_population(pop_size):\n",
    "    population = []\n",
    "    for _ in range(pop_size):\n",
    "        chromosome = {\n",
    "            'n_estimators': random.randint(5, 200),\n",
    "            'max_depth': random.randint(10, 100),\n",
    "            'min_samples_split': random.randint(2, 10),\n",
    "            'min_samples_leaf': random.randint(1, 10),\n",
    "            'criterion': random.choice([\"gini\", \"entropy\"])\n",
    "        }\n",
    "        population.append(chromosome)\n",
    "    return population"
   ]
  },
  {
   "cell_type": "markdown",
   "metadata": {},
   "source": [
    "### Mutation operator\n",
    "\n",
    "- For binary variables we just flip the bit with a probability $\\tilde{p} = 1/n$ where $n$ is the size of the population.\n",
    "- For positive integer variables we add a random number between $-1$ and $1$ to the variable.\n",
    "- For real variables we add a random noise from a gaussian distribution with mean $0$ and standard deviation $0.1$."
   ]
  },
  {
   "cell_type": "code",
   "execution_count": 102,
   "metadata": {},
   "outputs": [],
   "source": [
    "def mutate(chromosome, pop_size):\n",
    "    for gene in chromosome:\n",
    "        gene_type = chromosome_types.get(gene, None)\n",
    "        if gene_type == bool:\n",
    "            chromosome[gene] = \"gini\" if chromosome[gene] == \"entropy\" else \"entropy\"\n",
    "        elif gene_type == int:\n",
    "            noise = random.randint(-1, 1)\n",
    "            chromosome[gene] += noise\n",
    "        elif gene_type == float:\n",
    "            noise = random.normalvariate(0, 0.1)\n",
    "            chromosome[gene] += noise\n",
    "        else:\n",
    "            raise ValueError(f\"Unknown gene type\")"
   ]
  },
  {
   "cell_type": "markdown",
   "metadata": {},
   "source": [
    "### Crossover operator"
   ]
  },
  {
   "cell_type": "code",
   "execution_count": 103,
   "metadata": {},
   "outputs": [],
   "source": [
    "def crossover(chromosome1, chromosome2):\n",
    "    child = {}\n",
    "    for gene in chromosome1:\n",
    "        child[gene] = random.choice([chromosome1[gene], chromosome2[gene]])\n",
    "    return child"
   ]
  },
  {
   "cell_type": "markdown",
   "metadata": {},
   "source": [
    "### Selection operator"
   ]
  },
  {
   "cell_type": "code",
   "execution_count": 104,
   "metadata": {},
   "outputs": [],
   "source": [
    "def select(population, X_train, y_train, X_val, y_val, tournament_size):\n",
    "    # Tournament selection\n",
    "    selected = []\n",
    "    for _ in range(len(population)):\n",
    "        tournament = random.sample(population, tournament_size)\n",
    "        winner = max(tournament, key=lambda c: evaluate_fitness(c, X_train, y_train, X_val, y_val))\n",
    "        selected.append(winner)\n",
    "    return selected"
   ]
  },
  {
   "cell_type": "markdown",
   "metadata": {},
   "source": [
    "### Termination condition"
   ]
  },
  {
   "cell_type": "code",
   "execution_count": 105,
   "metadata": {},
   "outputs": [],
   "source": [
    "def termination_condition(best_fitness, max_generations):\n",
    "    return best_fitness == 1.0 or max_generations == 0"
   ]
  },
  {
   "cell_type": "markdown",
   "metadata": {},
   "source": [
    "### Genetic algorithm"
   ]
  },
  {
   "cell_type": "code",
   "execution_count": 106,
   "metadata": {},
   "outputs": [],
   "source": [
    "def genetic_algorithm(X_train, y_train, X_val, y_val, pop_size=100, max_generations=100, tournament_size=3, mutation_rate=0.1):\n",
    "    # Initialize the population\n",
    "    population = initialize_population(pop_size)\n",
    "    \n",
    "    # Evolution loop\n",
    "    best_chromosome = None\n",
    "    best_fitness = 0\n",
    "    best_fitness_history = []\n",
    "    for generation in tqdm(range(max_generations)):\n",
    "        # Evaluate the population\n",
    "        fitness = [evaluate_fitness(chromosome, X_train, y_train, X_val, y_val) for chromosome in population]\n",
    "        \n",
    "        # Select the best chromosome\n",
    "        best_idx = fitness.index(max(fitness))\n",
    "        if fitness[best_idx] > best_fitness:\n",
    "            best_fitness = fitness[best_idx]\n",
    "            best_chromosome = population[best_idx]\n",
    "        \n",
    "        # Termination condition\n",
    "        best_fitness_history.append(best_fitness)\n",
    "        if termination_condition(best_fitness, max_generations - generation):\n",
    "            break\n",
    "        \n",
    "        # Select the next generation\n",
    "        selected = select(population, X_train, y_train, X_val, y_val, tournament_size)\n",
    "        \n",
    "        # Crossover\n",
    "        children = []\n",
    "        for _ in range(pop_size // 2):\n",
    "            parent1 = random.choice(selected)\n",
    "            parent2 = random.choice(selected)\n",
    "            child1 = crossover(parent1, parent2)\n",
    "            child2 = crossover(parent1, parent2)\n",
    "            children.extend([child1, child2])\n",
    "        \n",
    "        # Mutation\n",
    "        for child in children:\n",
    "            if random.random() < mutation_rate:\n",
    "                mutate(child, pop_size)\n",
    "        \n",
    "        # Update the population\n",
    "        population = children\n",
    "    \n",
    "    return best_chromosome, best_fitness, best_fitness_history"
   ]
  },
  {
   "cell_type": "markdown",
   "metadata": {},
   "source": [
    "## Experiment"
   ]
  },
  {
   "cell_type": "markdown",
   "metadata": {},
   "source": [
    "### Data loading"
   ]
  },
  {
   "cell_type": "code",
   "execution_count": 107,
   "metadata": {},
   "outputs": [],
   "source": [
    "import pandas as pd\n",
    "\n",
    "df = pd.read_parquet('datasets/creditcard.parquet')\n",
    "df_train, df_val = train_test_split(df, test_size=0.2, random_state=SEED, stratify=df['Class'])\n",
    "\n",
    "# Standardize the data\n",
    "from sklearn.preprocessing import StandardScaler\n",
    "\n",
    "scaler = StandardScaler()\n",
    "X_train = scaler.fit_transform(df_train.drop(columns=['Class']))\n",
    "y_train = df_train['Class'].values\n",
    "X_val = scaler.transform(df_val.drop(columns=['Class']))\n",
    "y_val = df_val['Class'].values"
   ]
  },
  {
   "cell_type": "code",
   "execution_count": null,
   "metadata": {},
   "outputs": [],
   "source": [
    "# Run the genetic algorithm\n",
    "best_chromosome, best_fitness, best_fitness_history = genetic_algorithm(\n",
    "    X_train,\n",
    "    y_train,\n",
    "    X_val,\n",
    "    y_val,\n",
    "    pop_size=5,\n",
    "    max_generations=20,\n",
    "    tournament_size=3,\n",
    "    mutation_rate=0.1\n",
    ")"
   ]
  },
  {
   "cell_type": "code",
   "execution_count": null,
   "metadata": {},
   "outputs": [],
   "source": [
    "import matplotlib.pyplot as plt\n",
    "\n",
    "x_generations = list(range(1,1+len(best_fitness_history)))\n",
    "plt.scatter(x_generations, best_fitness_history)\n",
    "plt.plot(x_generations, best_fitness_history)\n",
    "plt.xlabel(\"Generation\")\n",
    "plt.ylabel(\"Fitness\")\n",
    "plt.title(\"Fitness through generations\")\n",
    "plt.show()"
   ]
  }
 ],
 "metadata": {
  "kernelspec": {
   "display_name": "usr",
   "language": "python",
   "name": "python3"
  },
  "language_info": {
   "codemirror_mode": {
    "name": "ipython",
    "version": 3
   },
   "file_extension": ".py",
   "mimetype": "text/x-python",
   "name": "python",
   "nbconvert_exporter": "python",
   "pygments_lexer": "ipython3",
   "version": "3.12.6"
  }
 },
 "nbformat": 4,
 "nbformat_minor": 2
}
