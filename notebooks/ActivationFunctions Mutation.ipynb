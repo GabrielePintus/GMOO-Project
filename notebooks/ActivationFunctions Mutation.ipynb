{
 "cells": [
  {
   "cell_type": "markdown",
   "metadata": {},
   "source": [
    "# Mutation for Activation Functions\n",
    "\n",
    "In this notebook we see how to build a meaningful mutation operator for activation functions in neural networks."
   ]
  },
  {
   "cell_type": "markdown",
   "metadata": {},
   "source": [
    "## Defining the distance\n",
    "\n",
    "In order to define the distance we first have to define the tree structure of the activation functions. We will consider the following activation functions:\n",
    "- ReLU\n",
    "- Leaky ReLU\n",
    "- ELU\n",
    "- GELU\n",
    "- Sigmoid\n",
    "- Tanh\n",
    "\n",
    "We consider the following aspects of the activation functions:\n",
    "- Boundness: whether the function is bounded or not\n",
    "- Smoothness: whether the function is smooth or not\n",
    "\n",
    "With these aspects in mind we can classify the activation functions as follows:\n",
    "| Activation Function | Bounded | Smooth |\n",
    "|---------------------|:-------:|:------:|\n",
    "| ReLU                | No      | No     |\n",
    "| Leaky ReLU          | No      | No     |\n",
    "| ELU                 | No      | Yes    |\n",
    "| GELU                | No      | Yes    |\n",
    "| Sigmoid             | Yes     | Yes    |\n",
    "| Tanh                | Yes     | Yes    |"
   ]
  },
  {
   "cell_type": "code",
   "execution_count": 116,
   "metadata": {},
   "outputs": [],
   "source": [
    "from collections import defaultdict\n",
    "import numpy as np\n",
    "\n",
    "# Step 1: Define the tree structure for the activation functions\n",
    "functions_tree = {\n",
    "    \"root\": [\"unbounded\", \"bounded\"],\n",
    "    \"unbounded\": [\"not-smooth\", \"smooth\"],\n",
    "    \"not-smooth\": [\"relu\", \"leakyrelu\"],\n",
    "    \"smooth\": [\"elu\",\"gelu\"],\n",
    "    \"bounded\": [\"tanh\", \"sigmoid\"]\n",
    "}"
   ]
  },
  {
   "cell_type": "code",
   "execution_count": 117,
   "metadata": {},
   "outputs": [],
   "source": [
    "# Step 2: Build a mapping from child to parent for easy traversal\n",
    "parent_map = {}\n",
    "def build_parent_map(node, parent, tree):\n",
    "    parent_map[node] = parent\n",
    "    if node in tree:\n",
    "        for child in tree[node]:\n",
    "            build_parent_map(child, node, tree)\n",
    "\n",
    "build_parent_map(\"root\", None, functions_tree)"
   ]
  },
  {
   "cell_type": "code",
   "execution_count": 118,
   "metadata": {},
   "outputs": [],
   "source": [
    "# Step 3: Function to calculate the distance (hops) between two activation functions\n",
    "def distance(node1, node2, parent_map):\n",
    "    # Find the path to the root for both nodes\n",
    "    path1, path2 = [], []\n",
    "    \n",
    "    while node1 is not None:\n",
    "        path1.append(node1)\n",
    "        node1 = parent_map[node1]\n",
    "    \n",
    "    while node2 is not None:\n",
    "        path2.append(node2)\n",
    "        node2 = parent_map[node2]\n",
    "    \n",
    "    # Find the least common ancestor (LCA) by comparing the paths\n",
    "    path1.reverse()\n",
    "    path2.reverse()\n",
    "    min_len = min(len(path1), len(path2))\n",
    "    \n",
    "    lca_distance = 0\n",
    "    for i in range(min_len):\n",
    "        if path1[i] == path2[i]:\n",
    "            lca_distance = i\n",
    "        else:\n",
    "            break\n",
    "    \n",
    "    # The number of hops is the total distance to the LCA\n",
    "    hops = (len(path1) - lca_distance - 1) + (len(path2) - lca_distance - 1)\n",
    "    return hops\n",
    "\n",
    "\n",
    "# Step 4: Compute probabilities based on distances\n",
    "def compute_probabilities_from_tree(current_function, parent_map, all_functions):\n",
    "    hops = {func: np.emath.logn(2, distance(current_function, func, parent_map)) for func in all_functions if func != current_function}\n",
    "    \n",
    "    # Compute raw probabilities using 1 / distance (or some distance function)\n",
    "    raw_probs = {func: 1 / (2**dist) for func, dist in hops.items()}\n",
    "    \n",
    "    # Normalize the probabilities\n",
    "    total = sum(raw_probs.values())\n",
    "    probabilities = {func: prob / total for func, prob in raw_probs.items()}\n",
    "    \n",
    "    return probabilities"
   ]
  },
  {
   "cell_type": "code",
   "execution_count": 119,
   "metadata": {},
   "outputs": [],
   "source": [
    "# Define all activation functions\n",
    "all_functions = [\"relu\", \"leakyrelu\", \"elu\", \"gelu\", \"tanh\", \"sigmoid\"]\n",
    "\n",
    "# Example: compute the matrix of probabilities\n",
    "probabilities = np.zeros((len(all_functions), len(all_functions)))\n",
    "for i, func in enumerate(all_functions):\n",
    "    transition_probability = 0.75\n",
    "    probs = compute_probabilities_from_tree(func, parent_map, all_functions)\n",
    "    for j, other_func in enumerate(all_functions):\n",
    "        probabilities[i, j] = probs[other_func]*transition_probability if other_func in probs else 1-transition_probability"
   ]
  },
  {
   "cell_type": "code",
   "execution_count": 120,
   "metadata": {},
   "outputs": [
    {
     "name": "stdout",
     "output_type": "stream",
     "text": [
      "Transition probabilities:\n",
      "[[0.25 0.27 0.13 0.13 0.11 0.11]\n",
      " [0.27 0.25 0.13 0.13 0.11 0.11]\n",
      " [0.13 0.13 0.25 0.27 0.11 0.11]\n",
      " [0.13 0.13 0.27 0.25 0.11 0.11]\n",
      " [0.12 0.12 0.12 0.12 0.25 0.29]\n",
      " [0.12 0.12 0.12 0.12 0.29 0.25]]\n"
     ]
    }
   ],
   "source": [
    "# Pretty print the matrix\n",
    "print(\"Transition probabilities:\")\n",
    "print( np.array_str(probabilities, precision=2, suppress_small=True) )"
   ]
  },
  {
   "cell_type": "markdown",
   "metadata": {},
   "source": [
    "Since the number of activation functions is small, it is more convenient to store the matrix of the transition probabilities and then load it in the code."
   ]
  },
  {
   "cell_type": "code",
   "execution_count": 121,
   "metadata": {},
   "outputs": [],
   "source": [
    "np.savetxt(\"transition_probabilities.csv\", probabilities, delimiter=\",\")"
   ]
  }
 ],
 "metadata": {
  "kernelspec": {
   "display_name": "Python 3",
   "language": "python",
   "name": "python3"
  },
  "language_info": {
   "codemirror_mode": {
    "name": "ipython",
    "version": 3
   },
   "file_extension": ".py",
   "mimetype": "text/x-python",
   "name": "python",
   "nbconvert_exporter": "python",
   "pygments_lexer": "ipython3",
   "version": "3.12.7"
  }
 },
 "nbformat": 4,
 "nbformat_minor": 2
}
