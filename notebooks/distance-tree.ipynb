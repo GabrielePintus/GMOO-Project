{
 "cells": [
  {
   "cell_type": "code",
   "execution_count": 46,
   "metadata": {},
   "outputs": [],
   "source": [
    "from collections import defaultdict\n",
    "import numpy as np\n",
    "\n",
    "# Step 1: Define the tree structure for the activation functions\n",
    "activation_tree = {\n",
    "    \"root\": [\"unbounded\", \"bounded\"],\n",
    "    \"unbounded\": [\"straight\", \"round\"],\n",
    "    \"straight\": [\"relu\", \"leakyrelu\"],\n",
    "    \"round\": [\"elu\",\"gelu\"],\n",
    "    \"bounded\": [\"tanh\", \"sigmoid\"]\n",
    "}"
   ]
  },
  {
   "cell_type": "code",
   "execution_count": 47,
   "metadata": {},
   "outputs": [],
   "source": [
    "# Step 2: Build a mapping from child to parent for easy traversal\n",
    "parent_map = {}\n",
    "def build_parent_map(node, parent, tree):\n",
    "    parent_map[node] = parent\n",
    "    if node in tree:\n",
    "        for child in tree[node]:\n",
    "            build_parent_map(child, node, tree)\n",
    "\n",
    "build_parent_map(\"root\", None, activation_tree)"
   ]
  },
  {
   "cell_type": "code",
   "execution_count": 48,
   "metadata": {},
   "outputs": [],
   "source": [
    "# Step 3: Function to calculate the distance (hops) between two activation functions\n",
    "def find_distance(node1, node2, parent_map):\n",
    "    # Find the path to the root for both nodes\n",
    "    path1, path2 = [], []\n",
    "    \n",
    "    while node1 is not None:\n",
    "        path1.append(node1)\n",
    "        node1 = parent_map[node1]\n",
    "    \n",
    "    while node2 is not None:\n",
    "        path2.append(node2)\n",
    "        node2 = parent_map[node2]\n",
    "    \n",
    "    # Find the least common ancestor (LCA) by comparing the paths\n",
    "    path1.reverse()\n",
    "    path2.reverse()\n",
    "    min_len = min(len(path1), len(path2))\n",
    "    \n",
    "    lca_distance = 0\n",
    "    for i in range(min_len):\n",
    "        if path1[i] == path2[i]:\n",
    "            lca_distance = i\n",
    "        else:\n",
    "            break\n",
    "    \n",
    "    # The number of hops is the total distance to the LCA\n",
    "    distance = (len(path1) - lca_distance - 1) + (len(path2) - lca_distance - 1)\n",
    "    # return np.log2(distance)\n",
    "    return distance\n",
    "\n",
    "# Step 4: Compute probabilities based on distances\n",
    "def compute_probabilities_from_tree(current_function, parent_map, all_functions):\n",
    "    # Compute the hops for each function relative to the current function\n",
    "    distances = {func: find_distance(current_function, func, parent_map) for func in all_functions if func != current_function}\n",
    "    \n",
    "    # Compute raw probabilities using 1 / distance (or some distance function)\n",
    "    raw_probs = {func: 1 / (2**dist) for func, dist in distances.items()}\n",
    "    \n",
    "    # Normalize the probabilities\n",
    "    total = sum(raw_probs.values())\n",
    "    probabilities = {func: prob / total for func, prob in raw_probs.items()}\n",
    "    \n",
    "    return probabilities"
   ]
  },
  {
   "cell_type": "code",
   "execution_count": 49,
   "metadata": {},
   "outputs": [
    {
     "data": {
      "text/plain": [
       "2"
      ]
     },
     "execution_count": 49,
     "metadata": {},
     "output_type": "execute_result"
    }
   ],
   "source": [
    "find_distance(\"relu\", \"leakyrelu\", parent_map)"
   ]
  },
  {
   "cell_type": "code",
   "execution_count": 50,
   "metadata": {},
   "outputs": [
    {
     "name": "stdout",
     "output_type": "stream",
     "text": [
      "leakyrelu: 57.1\n",
      "elu: 14.3\n",
      "gelu: 14.3\n",
      "tanh: 7.1\n",
      "sigmoid: 7.1\n"
     ]
    }
   ],
   "source": [
    "# Define all activation functions\n",
    "all_functions = [\"relu\", \"leakyrelu\", \"elu\", \"gelu\", \"tanh\", \"sigmoid\"]\n",
    "\n",
    "# Example: compute mutation probabilities from 'relu'\n",
    "probabilities_from_relu = compute_probabilities_from_tree(\"relu\", parent_map, all_functions)\n",
    "for func, prob in probabilities_from_relu.items():\n",
    "    print(f\"{func}: {prob*100:.1f}\")\n"
   ]
  }
 ],
 "metadata": {
  "kernelspec": {
   "display_name": "Python 3",
   "language": "python",
   "name": "python3"
  },
  "language_info": {
   "codemirror_mode": {
    "name": "ipython",
    "version": 3
   },
   "file_extension": ".py",
   "mimetype": "text/x-python",
   "name": "python",
   "nbconvert_exporter": "python",
   "pygments_lexer": "ipython3",
   "version": "3.12.6"
  }
 },
 "nbformat": 4,
 "nbformat_minor": 2
}
